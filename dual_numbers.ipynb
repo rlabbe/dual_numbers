{
 "cells": [
  {
   "cell_type": "markdown",
   "id": "d3bfb479",
   "metadata": {},
   "source": [
    "# Dual Numbers and Automatic Differentation\n",
    "\n",
    "## Motivation\n",
    "\n",
    "\n",
    "Dual numbers are used to compute automatic derivatives of polynomials and other functions without requiring you to find the derivative analytically. How is this done? What are dual numbers.\n",
    "\n",
    "\n",
    "First, let's just see what this means. Consider the equation\n",
    "\n",
    "$$\\begin{align} f(x)=&(x+3)(x+2)\\\\\n",
    " =& x^2 + 5x+6\\end{align}$$\n",
    " \n",
    "From this we know the derivative is\n",
    "\n",
    "$$f'(x) = 2x + 5$$\n",
    "\n",
    "\n",
    "We could then write code\n",
    "\n",
    "\n",
    "\n",
    "\n",
    "\n",
    "\n"
   ]
  },
  {
   "cell_type": "code",
   "execution_count": 1,
   "id": "47a437b0",
   "metadata": {},
   "outputs": [],
   "source": [
    "def f(x):\n",
    "    return x**2 + 5*x + 6\n",
    "\n",
    "def df(x):\n",
    "    return 2*x + 5"
   ]
  },
  {
   "cell_type": "markdown",
   "id": "96cccc90",
   "metadata": {},
   "source": [
    "And then evaluate it at a given value $x=3$"
   ]
  },
  {
   "cell_type": "code",
   "execution_count": 2,
   "id": "7018773a",
   "metadata": {},
   "outputs": [
    {
     "name": "stdout",
     "output_type": "stream",
     "text": [
      "f(3)=30\n",
      "df(3)=11\n"
     ]
    }
   ],
   "source": [
    "print(f'{f(3)=}')\n",
    "print(f'{df(3)=}')"
   ]
  },
  {
   "cell_type": "markdown",
   "id": "f1bb43f0",
   "metadata": {},
   "source": [
    "The rest of this notebook explains how to use dual numbers to find the derivative automatically; that is, you write the function `f(x)`, don't write `df(x)`, and yet the derivative (11 in the example above) is computed automatically for you."
   ]
  },
  {
   "cell_type": "markdown",
   "id": "56ddc8fc",
   "metadata": {},
   "source": [
    "# Dual Numbers\n",
    "\n",
    "We don't want to derive the derivative, as it can be quite difficult or impossible. It is also a lot of boilerplate code that increases the chances of bugs. Wouldn't it be better if the computer could find it automatically? With dual numbers it can. \n",
    "\n",
    "\n",
    "## Hypercomplex and Complex Numbers\n",
    "\n",
    "What is a dual number? Formally, it is a type of *hypercomplex numbers*. You are already familiar with some of these, even if you don't recognize the term. *Complex numbers* are another type of hypercomplex numbers, with the form\n",
    "\n",
    "$$ a + bi$$\n",
    "\n",
    "where $a$ and $b$ are real numbers, and $i^2 = -1$. We can write this more concisely as\n",
    "\n",
    "$$a + bi\\begin{cases}a,b \\in \\mathbb{R},i^2 = -1\\end{cases}$$\n",
    "\n",
    "\n",
    "Perhaps your mind fought this idea a bit when you first learned it, as no real number squared can equal -1. The great mathematician Euler had trouble with it. However, it is trivial to show they are utterly necessary when finding roots of cubic polynomials, even when x is in $\\mathbb{R}$ (the real numbers). I refer you to chapter one of Needham's outstanding *Visual Complex Analysis* should you like a refresher on that. \n",
    "\n",
    "For now I will assume you are comfortable with complex numbers. We can do math on them:\n",
    "\n",
    "$$\\begin{align} x + y =& \\\\\n",
    "   =& a + bi + c + di \\\\\n",
    "   =& (a + c) +  (b+d)i\\end{align}$$\n",
    "   \n",
    "So we add complex numbers by adding the real and complex components separately. Similar rules can be derived for subtraction, multiplication, division, exponentation, etc. \n",
    "\n",
    "So, hypercomplex numbers are numbers that take a form \n",
    "\n",
    "$$ a_0 + a_1 e_1 + a_2 e_2 + a_3 e_3 + ... + a_n, e_n$$\n",
    "\n",
    "where (a_0,...a_n) are real coefficients, and (1,e_1,...e_n) form a basis for the algebra. As an aside, most literature uses *i*, not *e*, but in this context it does not necessarily imply the complex *i*, so I used *e* to remove that confusion. \n",
    "\n",
    "Complex numbers use *i* for the basis where $n=1$. Another hypercomplex number you may already know are quaternions, which are used to represent rotations in computer graphics, robotics, etc. Quaternions are a hypercomplex number with $n=3$ and the basis numbers $(1,1,1,1)$. The usual notation for quaternions is $(w, x, y, z)$. \n",
    "\n",
    "\n",
    "## Dual Numbers\n",
    "\n",
    "We are now ready for the definition of a dual number. A dual number is in the form\n",
    "\n",
    "  \n",
    "$$a + b\\epsilon\\begin{cases}a,b \\in \\mathbb{R},\\epsilon^2 = 0\\end{cases}$$\n",
    "\n",
    "At first blush it may appear that this is just a real number. If $\\epsilon^2 = 0$, then surely $\\epsilon = 0$, and the number is just equal to $a$. But this is not so. The basis is not required to be in $\\mathbb{R}$. For example, consider the matrix below who's square is the zero matrix:\n",
    "\n",
    "$$\\begin{align}\\mathbf{x} &= \\begin{bmatrix} 0 & 1 \\\\ 0 & 0\\end{bmatrix} \\\\\n",
    "\\mathbf{x}^2 &= \\mathbf{0} \\end{align}$$\n",
    "\n",
    "However, with dual numbers $\\epsilon$ is an *infinitesimal number*. Infinitesimals are not in $\\mathbb{R}$, as they are a non-zero number that is smaller than any real number. I'll state without proof that the square of an infinitesimal is zero.\n",
    "\n",
    "This gives us the already stated definition of a dual number\n",
    "\n",
    "$$a + b\\epsilon\\begin{cases}a,b \\in \\mathbb{R},\\epsilon^2 = 0\\end{cases}$$\n",
    "\n",
    "with the added understanding that $\\epsilon$ is an infinitesimal.\n",
    "\n",
    "For example $3 +4\\epsilon$ is a dual number, as is $\\pi -\\frac{1}{3}\\epsilon$\n",
    "\n",
    "### Using Dual Numbers to Find Derivatives\n",
    "Okay, infinitesimals are used in calculus to find derivatives. Dual numbers use infinitesimals. We are looking for a way to automatically compute derivatives. This sounds promising!\n",
    "\n",
    "What I provide now is not a full proof, but it takes you part of the way there, enough to understand what is happening. Consider the real polynomial\n",
    "\n",
    "$$f(x) = p + qx + rx^2$$\n",
    "\n",
    "Let's take it into the dual domain by replacing $x$ with $x + d\\epsilon$:\n",
    "\n",
    "$$\\begin{align}\n",
    "f(x + d\\epsilon) &= p + q(x + d\\epsilon) + r(x + d\\epsilon)^2\n",
    "\\end{align}$$\n",
    "\n",
    "Now we can refactor it as follows:\n",
    "\n",
    "$$\\begin{align}\n",
    "f(x + d\\epsilon) &= \\\\\n",
    "&=p + q(x + d\\epsilon) + r(x + d\\epsilon)^2 \\\\\n",
    "&=p + qx + qd\\epsilon + rx^2 + 2rdx\\epsilon \\\\\n",
    "&=(p + qx + rx^2) + (q + 2rx)d\\epsilon \\\\\n",
    "&=f(x) + (q + 2rx)d\\epsilon  \\\\\n",
    "&=f(x) + f'(x)d\\epsilon  \\\\\n",
    "\\end{align}$$\n",
    "\n",
    "So we have a remarkable result. $(q + 2rx)$ is the derivative of $f(x)$, and it appears as the real component of $\\epsilon$.\n",
    "\n",
    "It takes a bit more work to turn this into a proof that this works for any polynomial, but any standard text can take you through that. I'm more interested in how we can use this in code to automatically compute derivatives. \n",
    "\n",
    "The main objection is that this only works for polynomials. However, we can express transcendental as a Taylor series with enough terms to achieve accuracy equal to the smallest floating point number representable by *double*, hence we can safely use this for any equation you can express in code. \n",
    "\n",
    "Let's see that. This library is written in Pyhon, but it is easily done in C++ using templates, or with any other language you prefer."
   ]
  },
  {
   "cell_type": "code",
   "execution_count": 3,
   "id": "c78795a4",
   "metadata": {},
   "outputs": [],
   "source": [
    "from dataclasses import dataclass\n",
    "\n",
    "@dataclass\n",
    "class Dual:\n",
    "    real : float       # real part\n",
    "    dual : float = 0   # infitesimal part\n",
    "        \n",
    "    def __repr__(self): return f'{self.real} + {self.dual}ε'"
   ]
  },
  {
   "cell_type": "code",
   "execution_count": 4,
   "id": "e9388d9e",
   "metadata": {},
   "outputs": [
    {
     "data": {
      "text/plain": [
       "3 + 1ε"
      ]
     },
     "execution_count": 4,
     "metadata": {},
     "output_type": "execute_result"
    }
   ],
   "source": [
    "Dual(3,1)"
   ]
  },
  {
   "cell_type": "markdown",
   "id": "fdc9d95c",
   "metadata": {},
   "source": [
    "Okay, we have a class that implements a dual number, but it isn't very useful yet. Let's implement addition. Addition works as it does with complex numbers, add the real parts and infitesimal part separately."
   ]
  },
  {
   "cell_type": "code",
   "execution_count": 5,
   "id": "45c58705",
   "metadata": {},
   "outputs": [],
   "source": [
    "@dataclass\n",
    "class Dual:\n",
    "    real : float       # real part\n",
    "    dual : float = 0   # infitesimal part\n",
    "        \n",
    "    def __add__(self, y):\n",
    "        return Dual(self.real + y.real, self.dual + y.dual)\n",
    "    \n",
    "    def __repr__(self): return f'{self.real} + {self.dual}ε'    "
   ]
  },
  {
   "cell_type": "code",
   "execution_count": 6,
   "id": "bf736522",
   "metadata": {},
   "outputs": [
    {
     "data": {
      "text/plain": [
       "5 + 10ε"
      ]
     },
     "execution_count": 6,
     "metadata": {},
     "output_type": "execute_result"
    }
   ],
   "source": [
    "Dual(3,4) + Dual(-5,6) + Dual(7)"
   ]
  },
  {
   "cell_type": "markdown",
   "id": "958764e5",
   "metadata": {},
   "source": [
    "We can add the rest of the mathematical operators. Subtraction and multiplication are easy, division is a bit more complicated to derive, see the wikipedia article for the derivation https://en.wikipedia.org/wiki/Dual_number."
   ]
  },
  {
   "cell_type": "code",
   "execution_count": 7,
   "id": "adc88a7c",
   "metadata": {},
   "outputs": [],
   "source": [
    "@dataclass\n",
    "class Dual:\n",
    "    real : float       # real part\n",
    "    dual : float = 0   # infitesimal part\n",
    "        \n",
    "    def __add__(self, y):\n",
    "        if not isinstance(y, Dual):\n",
    "            y = Dual(y, 0)\n",
    "        return Dual(self.real + y.real, self.dual + y.dual)\n",
    "    \n",
    "    def __sub__(self, y):\n",
    "        if not isinstance(y, Dual):\n",
    "            y = Dual(y, 0)        \n",
    "        return Dual(self.real - y.real, self.dual - y.dual)\n",
    "    \n",
    "    def __mul__(self, y):\n",
    "        if not isinstance(y, Dual):\n",
    "            y = Dual(y, 0)        \n",
    "        return Dual(self.real * y.real, (self.real * y.dual) + (self.dual * y.real))\n",
    "    \n",
    "    def __truediv__(self, y):\n",
    "        if not isinstance(y, Dual):\n",
    "            y = Dual(y, 0)        \n",
    "        y_real_inv = 1 / y.real\n",
    "        real_div = self.real * y_real_inv\n",
    "        return Dual(real_div, (self.dual - real_div*y.dual) * y_real_inv)\n",
    "\n",
    "    def __repr__(self):\n",
    "        if self.dual >= 0:\n",
    "            return f'{self.real} + {self.dual}ε'\n",
    "        else: \n",
    "            # dual is negative, avoid +- notation\n",
    "            return f'{self.real} + {-self.dual}ε'"
   ]
  },
  {
   "cell_type": "code",
   "execution_count": 8,
   "id": "523b78fd",
   "metadata": {},
   "outputs": [
    {
     "data": {
      "text/plain": [
       "3 + 10ε"
      ]
     },
     "execution_count": 8,
     "metadata": {},
     "output_type": "execute_result"
    }
   ],
   "source": [
    "Dual(1,2) * Dual(3,4)"
   ]
  },
  {
   "cell_type": "code",
   "execution_count": 9,
   "id": "9afb5924",
   "metadata": {},
   "outputs": [
    {
     "data": {
      "text/plain": [
       "2.0 + 5.5ε"
      ]
     },
     "execution_count": 9,
     "metadata": {},
     "output_type": "execute_result"
    }
   ],
   "source": [
    "Dual(4,3) / Dual(2, 7)"
   ]
  },
  {
   "cell_type": "markdown",
   "id": "ee4a9600",
   "metadata": {},
   "source": [
    "Okay, we have implemented dual numbers, how do we compute the derivative? It's pretty simple, just define your function, and then pass in the dual number $x + 1\\epsilon$. We've already shown that the result will contain the value of the function evaluated at $x$ in the real part, and the derivative times the coefficient $d$ in the dual part. Here we set it to 1 so that the dual coefficient is just the derivative.\n",
    "\n",
    "We will use the equation $(x+2)(x+3)$ from the beginning of the article, where $f(3)=30$ and $f'(x)=11$"
   ]
  },
  {
   "cell_type": "code",
   "execution_count": 10,
   "id": "d4d0a018",
   "metadata": {},
   "outputs": [
    {
     "data": {
      "text/plain": [
       "30 + 11ε"
      ]
     },
     "execution_count": 10,
     "metadata": {},
     "output_type": "execute_result"
    }
   ],
   "source": [
    "def f(x):\n",
    "    # I didn't implement __pow__, so use the factored form\n",
    "    return (x + 2) * (x + 3)\n",
    "\n",
    "f(Dual(3, 1))"
   ]
  },
  {
   "cell_type": "markdown",
   "id": "57d3b548",
   "metadata": {},
   "source": [
    "As you can see, the real part 30 equals $f(3)$, and the dual part 11 equals $f'(3)$.\n",
    "\n",
    "A full implementation of dual numbers for automatic derivaties requires us to write the implementation of $sqrt$, $cos$, and the rest of the math functions. However, that is not our goal of this notebook. This repository's dual.py provides a full implmentation of dual numbers.\n",
    "\n",
    "For example consider $f(x) = 2x^3+log(x)$, which has the derivative $f'(x) = 6x^2 + \\frac{1}{x}$"
   ]
  },
  {
   "cell_type": "code",
   "execution_count": 11,
   "id": "67a74126",
   "metadata": {},
   "outputs": [
    {
     "name": "stdout",
     "output_type": "stream",
     "text": [
      "55.09861228866811 + 54.333333333333336ε\n",
      "55.09861228866811\n",
      "54.333333333333336\n"
     ]
    }
   ],
   "source": [
    "import dual\n",
    "from dual import Dual\n",
    "\n",
    "def f(x):\n",
    "    return 2*x**3 + dual.log(x)\n",
    "\n",
    "def df(x):\n",
    "    return 6*x**2 + 1 / x\n",
    "\n",
    "print(f(Dual(3, 1))) # compute f' automatically\n",
    "print(f(3))  \n",
    "print(df(3)) # compute f' manually to check\n",
    "\n",
    "assert f(Dual(3, 1)).real == f(3)\n",
    "assert f(Dual(3, 1)).dual == df(3)"
   ]
  }
 ],
 "metadata": {
  "kernelspec": {
   "display_name": "Python 3 (ipykernel)",
   "language": "python",
   "name": "python3"
  },
  "language_info": {
   "codemirror_mode": {
    "name": "ipython",
    "version": 3
   },
   "file_extension": ".py",
   "mimetype": "text/x-python",
   "name": "python",
   "nbconvert_exporter": "python",
   "pygments_lexer": "ipython3",
   "version": "3.9.7"
  }
 },
 "nbformat": 4,
 "nbformat_minor": 5
}
